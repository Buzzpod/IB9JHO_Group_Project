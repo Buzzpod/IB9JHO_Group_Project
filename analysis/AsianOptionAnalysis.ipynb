{
 "cells": [
  {
   "cell_type": "code",
   "execution_count": null,
   "metadata": {},
   "outputs": [],
   "source": [
    "import pandas as pd\n",
    "import matplotlib.pyplot as plt\n",
    "\n",
    "import glob, os\n",
    "\n",
    "os.getcwd() # ensure we are already in the analysis directory, otherwise changedir"
   ]
  },
  {
   "cell_type": "code",
   "execution_count": null,
   "metadata": {},
   "outputs": [],
   "source": [
    "csv_files = []\n",
    "\n",
    "for file in glob.glob(\"*.csv\"):\n",
    "    csv_files.append(file)\n",
    "    \n",
    "csv_files # return csv files analysis has been run for"
   ]
  },
  {
   "cell_type": "code",
   "execution_count": null,
   "metadata": {},
   "outputs": [],
   "source": [
    "file_path = r'SpotVsOption.csv'\n",
    "\n",
    "df = pd.read_csv(file_path)\n",
    "df.set_index('SpotPrice', inplace=True)\n",
    "\n",
    "fig, ax = plt.subplots(figsize=(8,5))\n",
    "ax = plt.plot(df.OptionPrice1, label='Option Price T=1')\n",
    "ax = plt.plot(df.OptionPrice2, label='Option Price T=4')\n",
    "ax = plt.plot(df.OptionPrice3, label='Option Price T=8')\n",
    "ax = plt.plot(df.OptionPrice4, label='Option Price T=12')\n",
    "\n",
    "plt.xlabel('Spot Price', fontsize=10)\n",
    "plt.ylabel('Option Price', fontsize=10)\n",
    "plt.title('Spot Price vs Option Price - Arithmetic average', fontsize=10)\n",
    "plt.legend()\n",
    "plt.grid()"
   ]
  },
  {
   "cell_type": "code",
   "execution_count": null,
   "metadata": {},
   "outputs": [],
   "source": [
    "file_path = r'Convergence.csv'\n",
    "\n",
    "df = pd.read_csv(file_path)\n",
    "df.set_index('NumSimulations', inplace=True)\n",
    "\n",
    "fig, ax = plt.subplots(figsize=(8,5))\n",
    "ax = plt.plot(df.PriceNaive, label='Naive method')\n",
    "ax = plt.plot(df.PriceAntithetic, label='Antithetic method')\n",
    "ax = plt.plot(df.PriceGBM, label='GBM method')\n",
    "\n",
    "plt.xlabel('Num Simulations', fontsize=10)\n",
    "plt.ylabel('Option Price', fontsize=10)\n",
    "plt.title('Num Simulations vs Option Price - Arithmetic average', fontsize=10)\n",
    "plt.legend()\n",
    "plt.grid()"
   ]
  },
  {
   "cell_type": "code",
   "execution_count": null,
   "metadata": {},
   "outputs": [],
   "source": [
    "file_path = r'OptionVsVolatility.csv'\n",
    "\n",
    "df = pd.read_csv(file_path)\n",
    "df.set_index('Volatility', inplace=True)\n",
    "\n",
    "fig, ax = plt.subplots(figsize=(8,5))\n",
    "ax = plt.plot(df.OptionPrice1, label='Option Price T=1')\n",
    "ax = plt.plot(df.OptionPrice2, label='Option Price T=4')\n",
    "ax = plt.plot(df.OptionPrice3, label='Option Price T=8')\n",
    "ax = plt.plot(df.OptionPrice4, label='Option Price T=12')\n",
    "\n",
    "plt.xlabel('Volatility', fontsize=10)\n",
    "plt.ylabel('Option Price', fontsize=10)\n",
    "plt.title('Volatility vs Option Price - Arithmetic average', fontsize=10)\n",
    "plt.legend()\n",
    "plt.grid()"
   ]
  },
  {
   "cell_type": "code",
   "execution_count": null,
   "metadata": {},
   "outputs": [],
   "source": [
    "file_path = r'Efficiency.csv'\n",
    "df = pd.read_csv(file_path)\n",
    "df.set_index('NumSimulations', inplace=True)\n",
    "\n",
    "fig, ax = plt.subplots(figsize=(8, 5))\n",
    "ax = plt.plot(df.TimeNaive, label='Naive method')\n",
    "ax = plt.plot(df.TimeAntithetic, label='Antithetic method')\n",
    "\n",
    "plt.xlabel('Num Simulations', fontsize=10)\n",
    "plt.ylabel('Efficiency (μs)', fontsize=10)\n",
    "plt.title('Num Simulations vs Computational Efficiency', fontsize=10)\n",
    "plt.legend()\n",
    "plt.grid()\n",
    "\n",
    "plt.show()"
   ]
  },
  {
   "cell_type": "code",
   "execution_count": null,
   "metadata": {},
   "outputs": [],
   "source": [
    "file_path = r'Tolerance.csv'\n",
    "\n",
    "df = pd.read_csv(file_path)\n",
    "df.set_index('NumSimulations', inplace=True)\n",
    "\n",
    "fig, ax = plt.subplots(figsize=(8,5))\n",
    "#ax.set_ylim([0.00, 0.05])\n",
    "ax = plt.plot(df.PriceDiffNaive, label='Naive method')\n",
    "ax = plt.plot(df.PriceDiffAntithetic, label='Antithetic method')\n",
    "\n",
    "plt.xlabel('Num Simulations', fontsize=10)\n",
    "plt.ylabel('Option Price', fontsize=10)\n",
    "plt.title('Num Simulations vs Option Price difference relative to GBM approximation - Arithmetic average', \n",
    "          fontsize=10)\n",
    "plt.legend()\n",
    "plt.grid()"
   ]
  },
  {
   "cell_type": "code",
   "execution_count": null,
   "metadata": {},
   "outputs": [],
   "source": []
  }
 ],
 "metadata": {
  "kernelspec": {
   "display_name": "Python 3",
   "language": "python",
   "name": "python3"
  },
  "language_info": {
   "codemirror_mode": {
    "name": "ipython",
    "version": 3
   },
   "file_extension": ".py",
   "mimetype": "text/x-python",
   "name": "python",
   "nbconvert_exporter": "python",
   "pygments_lexer": "ipython3",
   "version": "3.7.6"
  },
  "latex_envs": {
   "LaTeX_envs_menu_present": true,
   "autoclose": false,
   "autocomplete": true,
   "bibliofile": "biblio.bib",
   "cite_by": "apalike",
   "current_citInitial": 1,
   "eqLabelWithNumbers": true,
   "eqNumInitial": 1,
   "hotkeys": {
    "equation": "Ctrl-E",
    "itemize": "Ctrl-I"
   },
   "labels_anchors": false,
   "latex_user_defs": false,
   "report_style_numbering": false,
   "user_envs_cfg": false
  }
 },
 "nbformat": 4,
 "nbformat_minor": 4
}
